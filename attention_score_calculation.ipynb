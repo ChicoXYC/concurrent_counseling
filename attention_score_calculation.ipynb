{
 "cells": [
  {
   "cell_type": "markdown",
   "id": "0ec86be5",
   "metadata": {},
   "source": [
    "## This code codebook was used to calculate the attention score for each session\n",
    "\n",
    "Input: aggregated data with metadata of conversations from the system\n",
    "\n",
    "Output: dataset with attention score\n",
    "\n",
    "@author: Yucan Xu (chicoxu@connect.hku.hk)"
   ]
  },
  {
   "cell_type": "code",
   "execution_count": null,
   "id": "2d9a93d5",
   "metadata": {},
   "outputs": [],
   "source": [
    "import pandas as pd\n",
    "import numpy as np\n",
    "import seaborn as sns\n",
    "from matplotlib import pyplot as plt"
   ]
  },
  {
   "cell_type": "markdown",
   "id": "01c428f2",
   "metadata": {},
   "source": [
    "## Merge two dataset from 2020 to 2021"
   ]
  },
  {
   "cell_type": "code",
   "execution_count": null,
   "id": "8e26d48a",
   "metadata": {},
   "outputs": [],
   "source": [
    "data1 = pd.read_csv('datapart1.csv')"
   ]
  },
  {
   "cell_type": "code",
   "execution_count": null,
   "id": "8afd2809",
   "metadata": {},
   "outputs": [],
   "source": [
    "data2 = pd.read_csv('datapart2.csv')"
   ]
  },
  {
   "cell_type": "code",
   "execution_count": null,
   "id": "9ee87061",
   "metadata": {},
   "outputs": [],
   "source": [
    "data = data1.append(data2)"
   ]
  },
  {
   "cell_type": "code",
   "execution_count": null,
   "id": "bc2ac4b9",
   "metadata": {},
   "outputs": [],
   "source": [
    "data.conversationId.unique().shape"
   ]
  },
  {
   "cell_type": "code",
   "execution_count": null,
   "id": "202fdab6",
   "metadata": {},
   "outputs": [],
   "source": [
    "data = data.reset_index(drop=True)"
   ]
  },
  {
   "cell_type": "code",
   "execution_count": null,
   "id": "c216bb3a",
   "metadata": {},
   "outputs": [],
   "source": [
    "## check outliers\n",
    "data[data['datetime']>data['endDateTime']]"
   ]
  },
  {
   "cell_type": "markdown",
   "id": "3f7d1f94",
   "metadata": {},
   "source": [
    "## Calculate concurrent group for every message"
   ]
  },
  {
   "cell_type": "code",
   "execution_count": null,
   "id": "4e333069",
   "metadata": {},
   "outputs": [],
   "source": [
    "data = data.sort_values(by=['startDateTime','conversationId','datetime'])"
   ]
  },
  {
   "cell_type": "code",
   "execution_count": null,
   "id": "d5177f13",
   "metadata": {},
   "outputs": [],
   "source": [
    "data = data.rename(columns={'sum':'concurrent_group'})"
   ]
  },
  {
   "cell_type": "code",
   "execution_count": null,
   "id": "73af3a62",
   "metadata": {},
   "outputs": [],
   "source": [
    "data['concurrent_group_shift'] = data.groupby('conversationId')['concurrent_group'].shift(1)"
   ]
  },
  {
   "cell_type": "code",
   "execution_count": null,
   "id": "9aaa8836",
   "metadata": {},
   "outputs": [],
   "source": [
    "data['concurrent_group_shift'] = data.groupby(\n",
    "    'conversationId')['concurrent_group_shift'].transform(\n",
    "    lambda x: x.bfill())"
   ]
  },
  {
   "cell_type": "code",
   "execution_count": null,
   "id": "c361d4fe",
   "metadata": {},
   "outputs": [],
   "source": [
    "data['inc'] = np.where((data['concurrent_group'] != data['concurrent_group_shift']),\n",
    "                       'inc', 'no_inc')"
   ]
  },
  {
   "cell_type": "code",
   "execution_count": null,
   "id": "980640bb",
   "metadata": {},
   "outputs": [],
   "source": [
    "data_join = data.join((data[data['inc']=='inc'].groupby(\n",
    "    'conversationId').cumcount()+1).to_frame())"
   ]
  },
  {
   "cell_type": "code",
   "execution_count": null,
   "id": "b80d1964",
   "metadata": {},
   "outputs": [],
   "source": [
    "data_join.rename(columns={0: 'concurrent_group_pp'}, inplace=True)"
   ]
  },
  {
   "cell_type": "code",
   "execution_count": null,
   "id": "ac0333db",
   "metadata": {},
   "outputs": [],
   "source": [
    "data_join['concurrent_group_pp'] = data_join.groupby('conversationId')['concurrent_group_pp'].transform(\n",
    "    lambda x: x.ffill())"
   ]
  },
  {
   "cell_type": "code",
   "execution_count": null,
   "id": "9b65dc5f",
   "metadata": {},
   "outputs": [],
   "source": [
    "data_join['concurrent_group_pp'].fillna(0, inplace=True)"
   ]
  },
  {
   "cell_type": "markdown",
   "id": "5d7c75f9",
   "metadata": {},
   "source": [
    "## Calculate session duration"
   ]
  },
  {
   "cell_type": "code",
   "execution_count": null,
   "id": "1de51feb",
   "metadata": {},
   "outputs": [],
   "source": [
    "for column in data_join.columns:\n",
    "    if 'time' in column.lower():\n",
    "        data_join[column] = pd.to_datetime(data_join[column])"
   ]
  },
  {
   "cell_type": "code",
   "execution_count": null,
   "id": "13af48ee",
   "metadata": {},
   "outputs": [],
   "source": [
    "sstart = data_join.drop_duplicates(subset=['conversationId','concurrent_group_pp'],keep='first')"
   ]
  },
  {
   "cell_type": "code",
   "execution_count": null,
   "id": "b13f8d78",
   "metadata": {},
   "outputs": [],
   "source": [
    "send = data_join.drop_duplicates(subset=['conversationId','concurrent_group_pp'],keep='last')"
   ]
  },
  {
   "cell_type": "code",
   "execution_count": null,
   "id": "cd3d1f2f",
   "metadata": {},
   "outputs": [],
   "source": [
    "data_join = pd.merge(data_join,sstart[['datetime','concurrent_group_pp','conversationId']].rename(\n",
    "    columns={'datetime':'session_starttime'}),on=['concurrent_group_pp','conversationId'])"
   ]
  },
  {
   "cell_type": "code",
   "execution_count": null,
   "id": "fe88cbc4",
   "metadata": {},
   "outputs": [],
   "source": [
    "data_join = pd.merge(data_join,send[['datetime','concurrent_group_pp','conversationId']].rename(\n",
    "    columns={'datetime':'session_endtime'}),on=['concurrent_group_pp','conversationId'])"
   ]
  },
  {
   "cell_type": "code",
   "execution_count": null,
   "id": "dd946b9d",
   "metadata": {},
   "outputs": [],
   "source": [
    "data_join['session_duration'] = data_join['session_endtime'] - data_join['session_starttime']"
   ]
  },
  {
   "cell_type": "code",
   "execution_count": null,
   "id": "23f3909d",
   "metadata": {},
   "outputs": [],
   "source": [
    "#data_join['session_duration'].min()"
   ]
  },
  {
   "cell_type": "code",
   "execution_count": null,
   "id": "d4cd8d78",
   "metadata": {},
   "outputs": [],
   "source": [
    "#data_join['session_duration'].max()"
   ]
  },
  {
   "cell_type": "code",
   "execution_count": null,
   "id": "4c23dae1",
   "metadata": {},
   "outputs": [],
   "source": [
    "session_group = data_join.drop_duplicates(subset=['conversationId','concurrent_group_pp']).copy()"
   ]
  },
  {
   "cell_type": "code",
   "execution_count": null,
   "id": "3fc2d9bf",
   "metadata": {},
   "outputs": [],
   "source": [
    "session_group"
   ]
  },
  {
   "cell_type": "code",
   "execution_count": null,
   "id": "ea15b69d",
   "metadata": {},
   "outputs": [],
   "source": [
    "session_group['chat_time'] = session_group['ending_time'] - session_group['first_counselor_message_time']"
   ]
  },
  {
   "cell_type": "code",
   "execution_count": null,
   "id": "3916dd96",
   "metadata": {},
   "outputs": [],
   "source": [
    "#session_group['chat_time'].min()"
   ]
  },
  {
   "cell_type": "code",
   "execution_count": null,
   "id": "c2f7514e",
   "metadata": {},
   "outputs": [],
   "source": [
    "#session_group['chat_time'].max()"
   ]
  },
  {
   "cell_type": "code",
   "execution_count": null,
   "id": "19643c2e",
   "metadata": {},
   "outputs": [],
   "source": [
    "session_agg = session_group.groupby(['conversationId','concurrent_group'])['session_duration'].sum().reset_index()"
   ]
  },
  {
   "cell_type": "code",
   "execution_count": null,
   "id": "fae8b310",
   "metadata": {},
   "outputs": [],
   "source": [
    "chat_time = session_agg.groupby('conversationId')['session_duration'].sum().reset_index()"
   ]
  },
  {
   "cell_type": "code",
   "execution_count": null,
   "id": "74dfcf7c",
   "metadata": {},
   "outputs": [],
   "source": [
    "chat_time = chat_time.rename(columns={'session_duration':'chat_duration'})"
   ]
  },
  {
   "cell_type": "code",
   "execution_count": null,
   "id": "6ac6695a",
   "metadata": {},
   "outputs": [],
   "source": [
    "session_agg2 = session_agg.join(chat_time.set_index('conversationId'),on='conversationId',how='left')"
   ]
  },
  {
   "cell_type": "code",
   "execution_count": null,
   "id": "a6f09641",
   "metadata": {},
   "outputs": [],
   "source": [
    "#session_agg2"
   ]
  },
  {
   "cell_type": "markdown",
   "id": "c0b10959",
   "metadata": {},
   "source": [
    "## Calculate attention score for each session"
   ]
  },
  {
   "cell_type": "code",
   "execution_count": null,
   "id": "4a210675",
   "metadata": {},
   "outputs": [],
   "source": [
    "session_agg2['concurrent_group_reverse'] = session_agg['concurrent_group'].apply(lambda x:1/x)"
   ]
  },
  {
   "cell_type": "code",
   "execution_count": null,
   "id": "765b03df",
   "metadata": {},
   "outputs": [],
   "source": [
    "session_agg2['sharing'] = session_agg2['session_duration'] * session_agg2['concurrent_group_reverse']"
   ]
  },
  {
   "cell_type": "code",
   "execution_count": null,
   "id": "f592b7ca",
   "metadata": {},
   "outputs": [],
   "source": [
    "session_agg3 = session_agg2.groupby('conversationId')['sharing'].sum().reset_index()"
   ]
  },
  {
   "cell_type": "code",
   "execution_count": null,
   "id": "5263decb",
   "metadata": {},
   "outputs": [],
   "source": [
    "session_agg4 = session_agg3.join(session_agg2[['conversationId','chat_duration']].drop_duplicates(\n",
    "    subset=['conversationId']).set_index('conversationId'),on='conversationId',how='left')"
   ]
  },
  {
   "cell_type": "code",
   "execution_count": null,
   "id": "c8a6a3ed",
   "metadata": {},
   "outputs": [],
   "source": [
    "session_agg4['attention_score'] = session_agg4['sharing']/session_agg4['chat_duration']"
   ]
  },
  {
   "cell_type": "code",
   "execution_count": null,
   "id": "43cc22a1",
   "metadata": {},
   "outputs": [],
   "source": [
    "session_agg4['attention_score'] = session_agg4['attention_score'].apply(lambda x:round(x))"
   ]
  },
  {
   "cell_type": "code",
   "execution_count": null,
   "id": "db80e52d",
   "metadata": {},
   "outputs": [],
   "source": [
    "#session_agg4"
   ]
  },
  {
   "cell_type": "code",
   "execution_count": null,
   "id": "d2f8703c",
   "metadata": {},
   "outputs": [],
   "source": [
    "## join table and export csv with attention score"
   ]
  },
  {
   "cell_type": "code",
   "execution_count": null,
   "id": "536fef54",
   "metadata": {},
   "outputs": [],
   "source": [
    "session_agg4 = session_agg4.join(max_pp,on='conversationId',how='left')"
   ]
  },
  {
   "cell_type": "code",
   "execution_count": null,
   "id": "0bfefb5d",
   "metadata": {},
   "outputs": [],
   "source": [
    "data_info = data.drop_duplicates(subset=['conversationId']).copy()"
   ]
  },
  {
   "cell_type": "code",
   "execution_count": null,
   "id": "a1b42f29",
   "metadata": {},
   "outputs": [],
   "source": [
    "session_agg4 = session_agg4.join(data_info[['conversationId','startDateTime']].set_index(\n",
    "    'conversationId'),on='conversationId',how='left')"
   ]
  },
  {
   "cell_type": "code",
   "execution_count": null,
   "id": "856e74fe",
   "metadata": {},
   "outputs": [],
   "source": [
    "session_agg4.to_csv('attention_score.csv')"
   ]
  },
  {
   "cell_type": "code",
   "execution_count": null,
   "id": "c8174c8f",
   "metadata": {},
   "outputs": [],
   "source": []
  }
 ],
 "metadata": {
  "kernelspec": {
   "display_name": "Python 3 (ipykernel)",
   "language": "python",
   "name": "python3"
  },
  "language_info": {
   "codemirror_mode": {
    "name": "ipython",
    "version": 3
   },
   "file_extension": ".py",
   "mimetype": "text/x-python",
   "name": "python",
   "nbconvert_exporter": "python",
   "pygments_lexer": "ipython3",
   "version": "3.9.6"
  }
 },
 "nbformat": 4,
 "nbformat_minor": 5
}
