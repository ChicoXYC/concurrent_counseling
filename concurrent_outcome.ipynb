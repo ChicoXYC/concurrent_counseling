{
 "cells": [
  {
   "cell_type": "markdown",
   "id": "873c41eb",
   "metadata": {},
   "source": [
    "## This code codebook serves multiple purposes\n",
    "\n",
    "- Join downstream outcomes from the post-session survey, premature departure table and attention score data\n",
    "- Comparisons between non-concurrent sessions with concurrent sessions\n",
    "- Comparisons within groups of concurrent sessions\n",
    "- Explore optimal attention score on downstream outcomes\n",
    "\n",
    "@author: Yucan Xu (chicoxu@connect.hku.hk)\n"
   ]
  },
  {
   "cell_type": "code",
   "execution_count": null,
   "id": "9e5b6bf8",
   "metadata": {},
   "outputs": [],
   "source": [
    "import pandas as pd\n",
    "import numpy as np\n",
    "import glob,os,re,string\n",
    "import pytz\n",
    "import datetime\n",
    "import pymongo\n",
    "import re\n",
    "import pingouin as pg\n",
    "from pingouin import ttest\n",
    "import researchpy as rp\n",
    "from scipy.stats import pearsonr\n",
    "from datetime import timedelta\n",
    "import statsmodels.api as sm\n",
    "import statsmodels.formula.api as smf\n",
    "from statsmodels.stats.multicomp import (pairwise_tukeyhsd,\n",
    "                                         MultiComparison)\n",
    "from scipy.stats import chi2_contingency\n",
    "from itertools import combinations\n",
    "from statsmodels.sandbox.stats.multicomp import multipletests\n",
    "from pingouin import kruskal, read_dataset"
   ]
  },
  {
   "cell_type": "markdown",
   "id": "6d6fc1f3",
   "metadata": {},
   "source": [
    "## read attention score with premature departure data"
   ]
  },
  {
   "cell_type": "code",
   "execution_count": null,
   "id": "21b00d2e",
   "metadata": {},
   "outputs": [],
   "source": [
    "concurrent = pd.read_csv('attention_score.csv')"
   ]
  },
  {
   "cell_type": "code",
   "execution_count": null,
   "id": "07fc6c9e",
   "metadata": {},
   "outputs": [],
   "source": [
    "concurrent"
   ]
  },
  {
   "cell_type": "code",
   "execution_count": null,
   "id": "aa0f2d76",
   "metadata": {},
   "outputs": [],
   "source": [
    "premature_departure = pd.read_csv('premature_depature_detected_20-21.csv')"
   ]
  },
  {
   "cell_type": "code",
   "execution_count": null,
   "id": "8ee6512e",
   "metadata": {},
   "outputs": [],
   "source": [
    "premature_departure.columns"
   ]
  },
  {
   "cell_type": "code",
   "execution_count": null,
   "id": "c76bbacb",
   "metadata": {},
   "outputs": [],
   "source": [
    "premature_departure.startDateTime.min()"
   ]
  },
  {
   "cell_type": "code",
   "execution_count": null,
   "id": "6ea3310f",
   "metadata": {},
   "outputs": [],
   "source": [
    "premature_departure.startDateTime.max()"
   ]
  },
  {
   "cell_type": "markdown",
   "id": "93dab030",
   "metadata": {},
   "source": [
    "## join table that include counselors' role and dates of visits from users"
   ]
  },
  {
   "cell_type": "code",
   "execution_count": null,
   "id": "2e4fb6d4",
   "metadata": {},
   "outputs": [],
   "source": [
    "case_roles = pd.read_csv('../volunteer_training/cases_by_roles.csv')"
   ]
  },
  {
   "cell_type": "code",
   "execution_count": null,
   "id": "de07a754",
   "metadata": {},
   "outputs": [],
   "source": [
    "case_roles.columns"
   ]
  },
  {
   "cell_type": "code",
   "execution_count": null,
   "id": "6482dcdd",
   "metadata": {},
   "outputs": [],
   "source": [
    "concurrent = concurrent.join(case_roles[['uuid','role']].set_index('uuid'),\n",
    "                            on='conversationId',how='left')"
   ]
  },
  {
   "cell_type": "code",
   "execution_count": null,
   "id": "ccaef7ae",
   "metadata": {},
   "outputs": [],
   "source": [
    "concurrent['role'].value_counts()"
   ]
  },
  {
   "cell_type": "code",
   "execution_count": null,
   "id": "a2489576",
   "metadata": {},
   "outputs": [],
   "source": [
    "role_tag = {\n",
    "    'DUTY_OFFICER':'Paid_staff',\n",
    "    'SOCIAL_WORKER':'Paid_staff',\n",
    "    'Relief_Worker':'Paid_staff'\n",
    "}"
   ]
  },
  {
   "cell_type": "code",
   "execution_count": null,
   "id": "2c2a8565",
   "metadata": {},
   "outputs": [],
   "source": [
    "concurrent['role'] = concurrent['role'].replace(role_tag)"
   ]
  },
  {
   "cell_type": "code",
   "execution_count": null,
   "id": "ec475fd9",
   "metadata": {},
   "outputs": [],
   "source": [
    "concurrent['role'].value_counts()"
   ]
  },
  {
   "cell_type": "code",
   "execution_count": null,
   "id": "80e23f94",
   "metadata": {},
   "outputs": [],
   "source": [
    "concurrent['visit_hour'] = concurrent['startDateTime'].apply(\n",
    "    lambda x:x.split(' ')[1].split(':')[0])"
   ]
  },
  {
   "cell_type": "code",
   "execution_count": null,
   "id": "46b0a0fe",
   "metadata": {},
   "outputs": [],
   "source": [
    "hours = concurrent['visit_hour'].value_counts().reset_index()"
   ]
  },
  {
   "cell_type": "code",
   "execution_count": null,
   "id": "000048d3",
   "metadata": {},
   "outputs": [],
   "source": [
    "hours = hours.rename(columns={'index':'visiting_hour'})"
   ]
  },
  {
   "cell_type": "code",
   "execution_count": null,
   "id": "8d67483a",
   "metadata": {},
   "outputs": [],
   "source": [
    "hours['visiting_hour'] = hours['visiting_hour'].replace('00','24')"
   ]
  },
  {
   "cell_type": "code",
   "execution_count": null,
   "id": "2e53b378",
   "metadata": {},
   "outputs": [],
   "source": [
    "hours = hours.sort_values(by='visiting_hour')"
   ]
  },
  {
   "cell_type": "code",
   "execution_count": null,
   "id": "27b448b7",
   "metadata": {},
   "outputs": [],
   "source": [
    "hours.plot(x = 'visiting_hour',y='visit_hour',  ylabel='case_count', \n",
    "           figsize = (10,6),kind='bar', legend=False)"
   ]
  },
  {
   "cell_type": "code",
   "execution_count": null,
   "id": "9df980e3",
   "metadata": {},
   "outputs": [],
   "source": [
    "concurrent['visit_hour'] = concurrent['visit_hour'].replace('00','24')"
   ]
  },
  {
   "cell_type": "code",
   "execution_count": null,
   "id": "c9a2a53f",
   "metadata": {},
   "outputs": [],
   "source": [
    "concurrent['visit_hour'] = concurrent['visit_hour'].astype(int)"
   ]
  },
  {
   "cell_type": "code",
   "execution_count": null,
   "id": "98943397",
   "metadata": {},
   "outputs": [],
   "source": [
    "concurrent['visting_period'] = concurrent['visit_hour'].apply(lambda x:'1' if x<=8 else('3' if x>=17 else '2'))"
   ]
  },
  {
   "cell_type": "code",
   "execution_count": null,
   "id": "e203f94b",
   "metadata": {},
   "outputs": [],
   "source": [
    "concurrent['visting_period'].value_counts()"
   ]
  },
  {
   "cell_type": "code",
   "execution_count": null,
   "id": "70fe5da0",
   "metadata": {},
   "outputs": [],
   "source": []
  },
  {
   "cell_type": "code",
   "execution_count": null,
   "id": "86b74d62",
   "metadata": {},
   "outputs": [],
   "source": [
    "data_join = concurrent.join(\n",
    "    premature_departure[['conversationId','premature_departure_predicted']].set_index('conversationId'),\n",
    "on='conversationId',how='left')"
   ]
  },
  {
   "cell_type": "markdown",
   "id": "7f8514c0",
   "metadata": {},
   "source": [
    "## Seperate concurrent and non-concurrent (single) session"
   ]
  },
  {
   "cell_type": "code",
   "execution_count": null,
   "id": "d97b7d9f",
   "metadata": {},
   "outputs": [],
   "source": [
    "data_join['single'] = np.where(data_join['max_concurrent_group']>=2,\n",
    "                              1,0)"
   ]
  },
  {
   "cell_type": "code",
   "execution_count": null,
   "id": "b9196a5e",
   "metadata": {},
   "outputs": [],
   "source": [
    "data_join.groupby('single')['premature_departure_predicted'].value_counts()"
   ]
  },
  {
   "cell_type": "code",
   "execution_count": null,
   "id": "fcb1a85a",
   "metadata": {},
   "outputs": [],
   "source": [
    "data_join"
   ]
  },
  {
   "cell_type": "code",
   "execution_count": null,
   "id": "e8b57c9c",
   "metadata": {},
   "outputs": [],
   "source": [
    "data_multiple_chats = data_join[data_join['single']!=0].copy()"
   ]
  },
  {
   "cell_type": "code",
   "execution_count": null,
   "id": "e5ccf6a7",
   "metadata": {},
   "outputs": [],
   "source": []
  },
  {
   "cell_type": "code",
   "execution_count": null,
   "id": "0395ea4a",
   "metadata": {},
   "outputs": [],
   "source": [
    "exog = sm.add_constant(data_multiple_chats[['attention_score']])"
   ]
  },
  {
   "cell_type": "code",
   "execution_count": null,
   "id": "652c89d6",
   "metadata": {},
   "outputs": [],
   "source": [
    "endog = data_multiple_chats[['premature_departure_predicted']]"
   ]
  },
  {
   "cell_type": "code",
   "execution_count": null,
   "id": "50aa3395",
   "metadata": {},
   "outputs": [],
   "source": [
    "logistic_model = sm.GLM(endog, exog,\n",
    "                        family=sm.families.Binomial())"
   ]
  },
  {
   "cell_type": "code",
   "execution_count": null,
   "id": "ce3d61a9",
   "metadata": {},
   "outputs": [],
   "source": [
    "results = logistic_model.fit()"
   ]
  },
  {
   "cell_type": "code",
   "execution_count": null,
   "id": "5dc5aad8",
   "metadata": {},
   "outputs": [],
   "source": [
    "print(results.summary())"
   ]
  },
  {
   "cell_type": "code",
   "execution_count": null,
   "id": "eb8130a3",
   "metadata": {},
   "outputs": [],
   "source": [
    "params = results.params\n",
    "conf = results.conf_int()\n",
    "conf['Odds Ratio'] = params\n",
    "conf.columns = ['5%', '95%', 'Odds Ratio']\n",
    "np.exp(conf)"
   ]
  },
  {
   "cell_type": "markdown",
   "id": "6795b639",
   "metadata": {},
   "source": [
    "## Join post_session survey"
   ]
  },
  {
   "cell_type": "code",
   "execution_count": null,
   "id": "57c74f09",
   "metadata": {},
   "outputs": [],
   "source": [
    "ps = pd.read_excel('../openup_survey/post_chat_survey_2112.xlsx')"
   ]
  },
  {
   "cell_type": "code",
   "execution_count": null,
   "id": "a4cdc671",
   "metadata": {},
   "outputs": [],
   "source": [
    "ps.columns"
   ]
  },
  {
   "cell_type": "code",
   "execution_count": null,
   "id": "dffe7702",
   "metadata": {},
   "outputs": [],
   "source": [
    "data_join2 = data_join.join(\n",
    "    ps[['個案編號','1. 比起對話前，你現在的感覺如何?.1','3. 你認為本對話服務對你有多大幫助？[1至5選一]',\n",
    "       '6. 使用本服務後，是否能夠否鼓勵你日後在有需要時尋求協助?','7. 如果你的朋友有需要，你會向他推薦我們的服務嗎？']].set_index('個案編號'),on='conversationId',\n",
    "    how='left')"
   ]
  },
  {
   "cell_type": "code",
   "execution_count": null,
   "id": "84f4ae51",
   "metadata": {},
   "outputs": [],
   "source": [
    "data_join2.columns"
   ]
  },
  {
   "cell_type": "code",
   "execution_count": null,
   "id": "3fe32eb9",
   "metadata": {},
   "outputs": [],
   "source": [
    "data_join2['filling'] = (data_join2['1. 比起對話前，你現在的感覺如何?.1'].isna()) & (data_join2['3. 你認為本對話服務對你有多大幫助？[1至5選一]'].isna()) & (data_join2['6. 使用本服務後，是否能夠否鼓勵你日後在有需要時尋求協助?'].isna()) & (data_join2['7. 如果你的朋友有需要，你會向他推薦我們的服務嗎？'].isna())"
   ]
  },
  {
   "cell_type": "code",
   "execution_count": null,
   "id": "fc3585ea",
   "metadata": {},
   "outputs": [],
   "source": [
    "data_join2['filling'].value_counts()"
   ]
  },
  {
   "cell_type": "code",
   "execution_count": null,
   "id": "1240bf96",
   "metadata": {},
   "outputs": [],
   "source": [
    "data_join2['filling'] = data_join2['filling'].replace(True,'0')"
   ]
  },
  {
   "cell_type": "code",
   "execution_count": null,
   "id": "916dd36b",
   "metadata": {},
   "outputs": [],
   "source": [
    "data_join2['filling'] = data_join2['filling'].replace(False,'1')"
   ]
  },
  {
   "cell_type": "code",
   "execution_count": null,
   "id": "151da231",
   "metadata": {},
   "outputs": [],
   "source": [
    "data_join2.groupby('single')['filling'].value_counts()"
   ]
  },
  {
   "cell_type": "code",
   "execution_count": null,
   "id": "247c78eb",
   "metadata": {},
   "outputs": [],
   "source": [
    "data_join2.groupby('single')['1. 比起對話前，你現在的感覺如何?.1'].value_counts()"
   ]
  },
  {
   "cell_type": "markdown",
   "id": "cca1cd73",
   "metadata": {},
   "source": [
    "### Clean question answers "
   ]
  },
  {
   "cell_type": "code",
   "execution_count": null,
   "id": "0e9ccf1b",
   "metadata": {},
   "outputs": [],
   "source": [
    "q1_place_tag = {'好咗好多':5,\n",
    "               '好咗一啲':4,\n",
    "               '沒有變化':3,\n",
    "               '差咗一啲':2,\n",
    "               '差咗好多':1,\n",
    "               '好了很多':5,\n",
    "               '好了一些':4,\n",
    "               '沒有变化':3,\n",
    "               '差了一些':2,\n",
    "               '差了很多':1,\n",
    "               'I feel much better':5,\n",
    "               'I feel a bit better':4,\n",
    "               'I feel no change':3,\n",
    "               'I feel a bit worse than before':2,\n",
    "               'I feel much worse than before':1}"
   ]
  },
  {
   "cell_type": "code",
   "execution_count": null,
   "id": "385a26e2",
   "metadata": {},
   "outputs": [],
   "source": [
    "data_join2['1. 比起對話前，你現在的感覺如何?.1'] = data_join2['1. 比起對話前，你現在的感覺如何?.1'].replace(q1_place_tag)"
   ]
  },
  {
   "cell_type": "markdown",
   "id": "8bd5b149",
   "metadata": {},
   "source": [
    "## Comparisons on downstream outcomes between concurrent sessions and non-concurrent sessions"
   ]
  },
  {
   "cell_type": "markdown",
   "id": "4c46db83",
   "metadata": {},
   "source": [
    "### Q1-part A ttest"
   ]
  },
  {
   "cell_type": "code",
   "execution_count": null,
   "id": "a791d660",
   "metadata": {},
   "outputs": [],
   "source": [
    "x = data_join2[data_join2['single']==0]['1. 比起對話前，你現在的感覺如何?.1']"
   ]
  },
  {
   "cell_type": "code",
   "execution_count": null,
   "id": "7ce9cb98",
   "metadata": {},
   "outputs": [],
   "source": [
    "y = data_join2[data_join2['single']==1]['1. 比起對話前，你現在的感覺如何?.1']"
   ]
  },
  {
   "cell_type": "code",
   "execution_count": null,
   "id": "70350f61",
   "metadata": {},
   "outputs": [],
   "source": [
    "rp.ttest(group1= x, group1_name= \"Single\",\n",
    "         group2= y, group2_name= \"Concurrent\")"
   ]
  },
  {
   "cell_type": "markdown",
   "id": "d24b3fae",
   "metadata": {},
   "source": [
    "### Q1-Part B linear regression"
   ]
  },
  {
   "cell_type": "code",
   "execution_count": null,
   "id": "7d630a58",
   "metadata": {},
   "outputs": [],
   "source": [
    "data = data_join2[data_join2['1. 比起對話前，你現在的感覺如何?.1'].notna()].copy()"
   ]
  },
  {
   "cell_type": "code",
   "execution_count": null,
   "id": "dbdcaecb",
   "metadata": {},
   "outputs": [],
   "source": [
    "data  = data.rename(columns={'1. 比起對話前，你現在的感覺如何?.1':'q1'})"
   ]
  },
  {
   "cell_type": "code",
   "execution_count": null,
   "id": "11182509",
   "metadata": {},
   "outputs": [],
   "source": []
  },
  {
   "cell_type": "code",
   "execution_count": null,
   "id": "131ae03a",
   "metadata": {},
   "outputs": [],
   "source": [
    "lmodel1 = smf.ols(formula='q1 ~ attention_score', data=data).fit() \n",
    "print(lmodel1.summary())"
   ]
  },
  {
   "cell_type": "markdown",
   "id": "52900323",
   "metadata": {},
   "source": [
    "### Q3 - part A"
   ]
  },
  {
   "cell_type": "code",
   "execution_count": null,
   "id": "6503568c",
   "metadata": {},
   "outputs": [],
   "source": [
    "x = data_join2[data_join2['single']==0]['3. 你認為本對話服務對你有多大幫助？[1至5選一]']\n",
    "y = data_join2[data_join2['single']==1]['3. 你認為本對話服務對你有多大幫助？[1至5選一]']"
   ]
  },
  {
   "cell_type": "code",
   "execution_count": null,
   "id": "f1ec0b68",
   "metadata": {},
   "outputs": [],
   "source": [
    "rp.ttest(group1= x, group1_name= \"Single\",\n",
    "         group2= y, group2_name= \"Concurrent\")"
   ]
  },
  {
   "cell_type": "markdown",
   "id": "af8cb954",
   "metadata": {},
   "source": [
    "### Q3 Part B"
   ]
  },
  {
   "cell_type": "code",
   "execution_count": null,
   "id": "1701f14a",
   "metadata": {},
   "outputs": [],
   "source": [
    "data = data_join2[data_join2['3. 你認為本對話服務對你有多大幫助？[1至5選一]'].notna()].copy()"
   ]
  },
  {
   "cell_type": "code",
   "execution_count": null,
   "id": "2daf6e1a",
   "metadata": {},
   "outputs": [],
   "source": [
    "data  = data.rename(columns={'3. 你認為本對話服務對你有多大幫助？[1至5選一]':'q3'})"
   ]
  },
  {
   "cell_type": "code",
   "execution_count": null,
   "id": "146ea8f9",
   "metadata": {
    "scrolled": true
   },
   "outputs": [],
   "source": [
    "lmodel3 = smf.ols(formula='q3 ~ attention_score', data=data).fit() \n",
    "print(lmodel3.summary())"
   ]
  },
  {
   "cell_type": "markdown",
   "id": "f659f3e0",
   "metadata": {},
   "source": [
    "### Q7 part A"
   ]
  },
  {
   "cell_type": "code",
   "execution_count": null,
   "id": "2b22b0b8",
   "metadata": {},
   "outputs": [],
   "source": [
    "q7_tag = {\n",
    "    'Yes':'會',\n",
    "    'No':'不會',\n",
    "    'Not sure':'不確定',\n",
    "    '不确定':'不確定',\n",
    "    '不会':'不會',\n",
    "    '会':'會'\n",
    "}"
   ]
  },
  {
   "cell_type": "code",
   "execution_count": null,
   "id": "e1ca1ebd",
   "metadata": {},
   "outputs": [],
   "source": [
    "data_join2['7. 如果你的朋友有需要，你會向他推薦我們的服務嗎？'] = data_join2['7. 如果你的朋友有需要，你會向他推薦我們的服務嗎？'].replace(\n",
    "q7_tag)"
   ]
  },
  {
   "cell_type": "code",
   "execution_count": null,
   "id": "83c51566",
   "metadata": {},
   "outputs": [],
   "source": [
    "data_join2.groupby('single')['7. 如果你的朋友有需要，你會向他推薦我們的服務嗎？'].value_counts()"
   ]
  },
  {
   "cell_type": "code",
   "execution_count": null,
   "id": "310d365a",
   "metadata": {},
   "outputs": [],
   "source": [
    "data_join2['7. 如果你的朋友有需要，你會向他推薦我們的服務嗎？'] = data_join2['7. 如果你的朋友有需要，你會向他推薦我們的服務嗎？'].replace('不確定','不會').copy()"
   ]
  },
  {
   "cell_type": "code",
   "execution_count": null,
   "id": "feae025d",
   "metadata": {
    "scrolled": false
   },
   "outputs": [],
   "source": [
    "rp.crosstab(data_join2['7. 如果你的朋友有需要，你會向他推薦我們的服務嗎？'],\n",
    "            data_join2['single'], test= \"chi-square\")"
   ]
  },
  {
   "cell_type": "markdown",
   "id": "adcbfde0",
   "metadata": {},
   "source": [
    "### Q7 part B"
   ]
  },
  {
   "cell_type": "code",
   "execution_count": null,
   "id": "b7f5f34a",
   "metadata": {},
   "outputs": [],
   "source": [
    "q7_tag2 = {'不會':0,\n",
    "          '會':1}"
   ]
  },
  {
   "cell_type": "code",
   "execution_count": null,
   "id": "899d87dd",
   "metadata": {},
   "outputs": [],
   "source": [
    "data = data_join2[data_join2['7. 如果你的朋友有需要，你會向他推薦我們的服務嗎？'].notna()].copy()"
   ]
  },
  {
   "cell_type": "code",
   "execution_count": null,
   "id": "4a2b086f",
   "metadata": {},
   "outputs": [],
   "source": [
    "data = data.rename(columns={'7. 如果你的朋友有需要，你會向他推薦我們的服務嗎？':'Q7'})"
   ]
  },
  {
   "cell_type": "code",
   "execution_count": null,
   "id": "7df93ae1",
   "metadata": {},
   "outputs": [],
   "source": [
    "data['Q7'] = data['Q7'].replace(q7_tag2)"
   ]
  },
  {
   "cell_type": "code",
   "execution_count": null,
   "id": "e077d797",
   "metadata": {},
   "outputs": [],
   "source": [
    "exog = sm.add_constant(data[['attention_score']])"
   ]
  },
  {
   "cell_type": "code",
   "execution_count": null,
   "id": "b1155845",
   "metadata": {},
   "outputs": [],
   "source": [
    "endog = data[['Q7']]"
   ]
  },
  {
   "cell_type": "code",
   "execution_count": null,
   "id": "8ff35a6c",
   "metadata": {},
   "outputs": [],
   "source": [
    "logistic_model3 = sm.GLM(endog, exog,\n",
    "                        family=sm.families.Binomial())"
   ]
  },
  {
   "cell_type": "code",
   "execution_count": null,
   "id": "8cb8c586",
   "metadata": {},
   "outputs": [],
   "source": [
    "results = logistic_model3.fit()"
   ]
  },
  {
   "cell_type": "code",
   "execution_count": null,
   "id": "6bca41e3",
   "metadata": {},
   "outputs": [],
   "source": [
    "print(results.summary())"
   ]
  },
  {
   "cell_type": "code",
   "execution_count": null,
   "id": "f0f61852",
   "metadata": {},
   "outputs": [],
   "source": [
    "params = results.params\n",
    "conf = results.conf_int()\n",
    "conf['Odds Ratio'] = params\n",
    "conf.columns = ['5%', '95%', 'Odds Ratio']\n",
    "np.exp(conf)"
   ]
  },
  {
   "cell_type": "code",
   "execution_count": null,
   "id": "22ba977f",
   "metadata": {},
   "outputs": [],
   "source": []
  },
  {
   "cell_type": "code",
   "execution_count": null,
   "id": "103d520e",
   "metadata": {},
   "outputs": [],
   "source": []
  },
  {
   "cell_type": "markdown",
   "id": "4f434823",
   "metadata": {},
   "source": [
    "### Premature departure"
   ]
  },
  {
   "cell_type": "code",
   "execution_count": null,
   "id": "941980c8",
   "metadata": {},
   "outputs": [],
   "source": [
    "rp.crosstab(data_join2['premature_departure_predicted'],\n",
    "            data_join2['single'], test= \"chi-square\")"
   ]
  },
  {
   "cell_type": "code",
   "execution_count": null,
   "id": "a31ac120",
   "metadata": {},
   "outputs": [],
   "source": [
    "data_join2['single'].value_counts()"
   ]
  },
  {
   "cell_type": "markdown",
   "id": "e825dfcc",
   "metadata": {},
   "source": [
    "### Chat time"
   ]
  },
  {
   "cell_type": "code",
   "execution_count": null,
   "id": "0a2c22a7",
   "metadata": {},
   "outputs": [],
   "source": [
    "from pytimeparse import parse"
   ]
  },
  {
   "cell_type": "code",
   "execution_count": null,
   "id": "6fbf6e55",
   "metadata": {},
   "outputs": [],
   "source": [
    "data_join2['chat_duration_cast'] = data_join2['chat_duration'].apply(\n",
    "    lambda x:parse(x)/60)"
   ]
  },
  {
   "cell_type": "code",
   "execution_count": null,
   "id": "bb601adb",
   "metadata": {},
   "outputs": [],
   "source": [
    "x = data_join2[data_join2['single']==0]['chat_duration_cast']\n",
    "y = data_join2[data_join2['single']==1]['chat_duration_cast']"
   ]
  },
  {
   "cell_type": "code",
   "execution_count": null,
   "id": "3a46e15d",
   "metadata": {},
   "outputs": [],
   "source": [
    "rp.ttest(group1= x, group1_name= \"Single\",\n",
    "         group2= y, group2_name= \"Concurrent\")"
   ]
  },
  {
   "cell_type": "code",
   "execution_count": null,
   "id": "ca9f51ab",
   "metadata": {},
   "outputs": [],
   "source": [
    "lmodel4 = smf.ols(formula='chat_duration_cast ~ attention_score', data=data_join2).fit() \n",
    "print(lmodel4.summary())"
   ]
  },
  {
   "cell_type": "code",
   "execution_count": null,
   "id": "4b7d065f",
   "metadata": {},
   "outputs": [],
   "source": [
    "data_join4 = data_join2[data_join2['chat_duration_cast']<=360].copy()"
   ]
  },
  {
   "cell_type": "code",
   "execution_count": null,
   "id": "3e0cf422",
   "metadata": {},
   "outputs": [],
   "source": [
    "data_join4.groupby('single')['chat_duration_cast'].describe()"
   ]
  },
  {
   "cell_type": "markdown",
   "id": "c22928c2",
   "metadata": {},
   "source": [
    "## Identify optimal attention score"
   ]
  },
  {
   "cell_type": "code",
   "execution_count": null,
   "id": "12758b4a",
   "metadata": {},
   "outputs": [],
   "source": [
    "data_join2.columns"
   ]
  },
  {
   "cell_type": "code",
   "execution_count": null,
   "id": "b077c51b",
   "metadata": {},
   "outputs": [],
   "source": [
    "data_join2['attention_score_smooth'] = data_join2['attention_score'].round(-1)"
   ]
  },
  {
   "cell_type": "code",
   "execution_count": null,
   "id": "44bcd2a2",
   "metadata": {},
   "outputs": [],
   "source": [
    "accumulative = data_join2.groupby('attention_score_smooth').agg({'premature_departure_predicted':'sum',\n",
    "                                                         'conversationId':'count',\n",
    "                                                         '1. 比起對話前，你現在的感覺如何?.1':'sum',\n",
    "                                                         '3. 你認為本對話服務對你有多大幫助？[1至5選一]':'sum',\n",
    "                                                         '7. 如果你的朋友有需要，你會向他推薦我們的服務嗎？':'sum'\n",
    "                                                         }).reset_index()"
   ]
  },
  {
   "cell_type": "code",
   "execution_count": null,
   "id": "19ebc6a0",
   "metadata": {},
   "outputs": [],
   "source": [
    "accumulative"
   ]
  },
  {
   "cell_type": "code",
   "execution_count": null,
   "id": "e4592205",
   "metadata": {},
   "outputs": [],
   "source": [
    "accumulative['cn_total'] = accumulative['conversationId'].cumsum()"
   ]
  },
  {
   "cell_type": "code",
   "execution_count": null,
   "id": "4cf724fd",
   "metadata": {},
   "outputs": [],
   "source": [
    "accumulative['pd_total'] = accumulative['premature_departure_predicted'].cumsum()"
   ]
  },
  {
   "cell_type": "code",
   "execution_count": null,
   "id": "6227233e",
   "metadata": {},
   "outputs": [],
   "source": [
    "accumulative['pd_percentage'] = accumulative['pd_total']/accumulative['cn_total']*100"
   ]
  },
  {
   "cell_type": "code",
   "execution_count": null,
   "id": "9cf4e046",
   "metadata": {},
   "outputs": [],
   "source": [
    "#accumulative"
   ]
  },
  {
   "cell_type": "code",
   "execution_count": null,
   "id": "e670ce8d",
   "metadata": {},
   "outputs": [],
   "source": [
    "accumulative.plot(x='attention_score_smooth', y='pd_percentage', kind='line',\n",
    "        figsize=(12, 8), legend=False, style=\"ro-\")\n",
    "plt.title(\"(a). Accumulative percentage of premature departure on attention score\", y=1.01, fontsize=18)\n",
    "plt.ylabel(\"Accumulative Percentage of premature departure %\", labelpad=15,fontsize=14)\n",
    "plt.xlabel(\"Attention score\", labelpad=15,fontsize=14);\n",
    "plt.savefig(\"percentage_accumulative_pd_s.jpg\", dpi=300)"
   ]
  },
  {
   "cell_type": "code",
   "execution_count": null,
   "id": "7f2a1a88",
   "metadata": {},
   "outputs": [],
   "source": [
    "data = data_join2[data_join2['1. 比起對話前，你現在的感覺如何?.1'].notna()].copy()"
   ]
  },
  {
   "cell_type": "markdown",
   "id": "30762cdf",
   "metadata": {},
   "source": [
    "## "
   ]
  },
  {
   "cell_type": "code",
   "execution_count": null,
   "id": "55306825",
   "metadata": {},
   "outputs": [],
   "source": [
    "accumulative2 = data.groupby('attention_score_smooth').agg({'1. 比起對話前，你現在的感覺如何?.1':'sum',\n",
    "                                                    'conversationId':'count'}).reset_index()"
   ]
  },
  {
   "cell_type": "code",
   "execution_count": null,
   "id": "67188740",
   "metadata": {},
   "outputs": [],
   "source": [
    "accumulative2"
   ]
  },
  {
   "cell_type": "code",
   "execution_count": null,
   "id": "847eed7d",
   "metadata": {},
   "outputs": [],
   "source": [
    "accumulative2['cn_total'] = accumulative2['conversationId'].cumsum()"
   ]
  },
  {
   "cell_type": "code",
   "execution_count": null,
   "id": "cf945fd9",
   "metadata": {},
   "outputs": [],
   "source": [
    "accumulative2['score_total'] = accumulative2['1. 比起對話前，你現在的感覺如何?.1'].cumsum()"
   ]
  },
  {
   "cell_type": "code",
   "execution_count": null,
   "id": "fd7d7f21",
   "metadata": {},
   "outputs": [],
   "source": [
    "accumulative2['score_mean'] = accumulative2['score_total']/accumulative2['cn_total']"
   ]
  },
  {
   "cell_type": "code",
   "execution_count": null,
   "id": "f73a12a5",
   "metadata": {},
   "outputs": [],
   "source": [
    "accumulative2['score_mean'] = accumulative2['score_mean'].round(2)"
   ]
  },
  {
   "cell_type": "code",
   "execution_count": null,
   "id": "94425634",
   "metadata": {},
   "outputs": [],
   "source": [
    "accumulative2.plot(x='attention_score_smooth', y='score_mean', kind='line',\n",
    "        figsize=(12, 8), legend=False, style=\"ro-\")\n",
    "plt.title('(c). Accumulative mean score of \"feeling better after the session\" on attention score', y=1.01, fontsize=18)\n",
    "plt.yticks(np.arange(accumulative2['score_mean'].min(), accumulative2['score_mean'].max(), 0.05))\n",
    "plt.ylabel('Accumulative mean score of \"feeling better after the session\"', labelpad=15,fontsize=14)\n",
    "plt.xlabel(\"Attention score\", labelpad=15,fontsize=14);\n",
    "plt.savefig(\"score_q1_s.jpg\", dpi=300)"
   ]
  },
  {
   "cell_type": "code",
   "execution_count": null,
   "id": "01af0157",
   "metadata": {},
   "outputs": [],
   "source": [
    "data = data_join2[data_join2['3. 你認為本對話服務對你有多大幫助？[1至5選一]'].notna()].copy()"
   ]
  },
  {
   "cell_type": "code",
   "execution_count": null,
   "id": "440a3481",
   "metadata": {},
   "outputs": [],
   "source": [
    "accumulative3 = data.groupby('attention_score_smooth').agg({'3. 你認為本對話服務對你有多大幫助？[1至5選一]':'sum',\n",
    "                                                    'conversationId':'count'}).reset_index()"
   ]
  },
  {
   "cell_type": "code",
   "execution_count": null,
   "id": "ea5876ff",
   "metadata": {},
   "outputs": [],
   "source": [
    "accumulative3['cn_total'] = accumulative3['conversationId'].cumsum()"
   ]
  },
  {
   "cell_type": "code",
   "execution_count": null,
   "id": "9b9a1ccb",
   "metadata": {},
   "outputs": [],
   "source": [
    "accumulative3['score_total'] = accumulative3['3. 你認為本對話服務對你有多大幫助？[1至5選一]'].cumsum()"
   ]
  },
  {
   "cell_type": "code",
   "execution_count": null,
   "id": "3f4f94ac",
   "metadata": {},
   "outputs": [],
   "source": [
    "accumulative3['score_mean'] = accumulative3['score_total']/accumulative3['cn_total']"
   ]
  },
  {
   "cell_type": "code",
   "execution_count": null,
   "id": "f32f768d",
   "metadata": {},
   "outputs": [],
   "source": [
    "accumulative3['score_mean'] = accumulative3['score_mean'].round(2)"
   ]
  },
  {
   "cell_type": "code",
   "execution_count": null,
   "id": "d4a3f1fc",
   "metadata": {},
   "outputs": [],
   "source": [
    "accumulative3"
   ]
  },
  {
   "cell_type": "code",
   "execution_count": null,
   "id": "aca0996f",
   "metadata": {},
   "outputs": [],
   "source": [
    "accumulative3.plot(x='attention_score_smooth', y='score_mean', kind='line',\n",
    "        figsize=(12, 8), legend=False, style=\"ro-\")\n",
    "plt.title('(d). Accumulative mean score of \"feeling helpful about the session\" on attention score', y=1.01, fontsize=18)\n",
    "plt.yticks(np.arange(accumulative3['score_mean'].min(), accumulative3['score_mean'].max()+0.05, 0.05))\n",
    "plt.ylabel('Accumulative mean score of \"feeling helpful about the session\"', labelpad=15,fontsize=14)\n",
    "plt.xlabel(\"Attention score\", labelpad=15,fontsize=14);\n",
    "plt.savefig(\"score_q3_s.jpg\", dpi=300)"
   ]
  },
  {
   "cell_type": "code",
   "execution_count": null,
   "id": "da345667",
   "metadata": {},
   "outputs": [],
   "source": []
  },
  {
   "cell_type": "code",
   "execution_count": null,
   "id": "22018601",
   "metadata": {},
   "outputs": [],
   "source": [
    "data = data_join2[data_join2['7. 如果你的朋友有需要，你會向他推薦我們的服務嗎？'].notna()].copy()"
   ]
  },
  {
   "cell_type": "code",
   "execution_count": null,
   "id": "5316fa63",
   "metadata": {},
   "outputs": [],
   "source": [
    "accumulative4 = data.groupby('attention_score_smooth').agg({'7. 如果你的朋友有需要，你會向他推薦我們的服務嗎？':'sum',\n",
    "                                                    'conversationId':'count'}).reset_index()"
   ]
  },
  {
   "cell_type": "code",
   "execution_count": null,
   "id": "805a9913",
   "metadata": {},
   "outputs": [],
   "source": [
    "accumulative4['cn_total'] = accumulative4['conversationId'].cumsum()"
   ]
  },
  {
   "cell_type": "code",
   "execution_count": null,
   "id": "e09f54e7",
   "metadata": {},
   "outputs": [],
   "source": [
    "accumulative4['score_total'] = accumulative4['7. 如果你的朋友有需要，你會向他推薦我們的服務嗎？'].cumsum()"
   ]
  },
  {
   "cell_type": "code",
   "execution_count": null,
   "id": "198b1ea8",
   "metadata": {},
   "outputs": [],
   "source": [
    "accumulative4['rm_percentage'] = accumulative4['score_total']/accumulative4['cn_total']*100"
   ]
  },
  {
   "cell_type": "code",
   "execution_count": null,
   "id": "29c60b03",
   "metadata": {},
   "outputs": [],
   "source": [
    "accumulative4"
   ]
  },
  {
   "cell_type": "code",
   "execution_count": null,
   "id": "a4d6b14e",
   "metadata": {},
   "outputs": [],
   "source": [
    "accumulative4.plot(x='attention_score_smooth', y='rm_percentage', kind='line',\n",
    "        figsize=(12, 8), legend=False, style=\"ro-\")\n",
    "plt.title(\"(b). Accumulative percentage of willing to recommend the service on attention score\", y=1.01, fontsize=18)\n",
    "plt.ylabel(\"Accumulative Percentage of willing to recommend the service %\", labelpad=15,fontsize=14)\n",
    "plt.xlabel(\"Attention score\", labelpad=15,fontsize=14);\n",
    "plt.savefig(\"percentage_accumulative_rm_s.jpg\", dpi=300)"
   ]
  },
  {
   "cell_type": "code",
   "execution_count": null,
   "id": "a9fc0185",
   "metadata": {},
   "outputs": [],
   "source": []
  },
  {
   "cell_type": "markdown",
   "id": "95a7bc10",
   "metadata": {},
   "source": [
    "## Statistical test between concurrent groups"
   ]
  },
  {
   "cell_type": "code",
   "execution_count": null,
   "id": "a7514462",
   "metadata": {},
   "outputs": [],
   "source": [
    "aov = pg.anova(dv='chat_duration_cast', between='max_concurrent_group2', data=data_join2,\n",
    "               detailed=True)\n",
    "aov"
   ]
  },
  {
   "cell_type": "code",
   "execution_count": null,
   "id": "072a742e",
   "metadata": {},
   "outputs": [],
   "source": []
  },
  {
   "cell_type": "code",
   "execution_count": null,
   "id": "61ecfe06",
   "metadata": {},
   "outputs": [],
   "source": [
    "data_join2.pairwise_tukey(dv='chat_duration_cast', between='max_concurrent_group2',effsize='eta-square').round(3)"
   ]
  },
  {
   "cell_type": "code",
   "execution_count": null,
   "id": "ecdd54e3",
   "metadata": {},
   "outputs": [],
   "source": [
    "data = data_join2[data_join2['1. 比起對話前，你現在的感覺如何?.1'].notna()].copy()"
   ]
  },
  {
   "cell_type": "code",
   "execution_count": null,
   "id": "8408de91",
   "metadata": {},
   "outputs": [],
   "source": [
    "aov = pg.anova(dv='1. 比起對話前，你現在的感覺如何?.1', between='max_concurrent_group2', data=data,\n",
    "               detailed=True)\n",
    "aov"
   ]
  },
  {
   "cell_type": "code",
   "execution_count": null,
   "id": "0d45f680",
   "metadata": {},
   "outputs": [],
   "source": [
    "data.pairwise_tukey(dv='1. 比起對話前，你現在的感覺如何?.1', between='max_concurrent_group2',effsize='eta-square').round(3)"
   ]
  },
  {
   "cell_type": "code",
   "execution_count": null,
   "id": "32a794f7",
   "metadata": {},
   "outputs": [],
   "source": [
    "aov = pg.anova(dv='3. 你認為本對話服務對你有多大幫助？[1至5選一]', between='max_concurrent_group2', data=data_join2,\n",
    "               detailed=True)\n",
    "aov"
   ]
  },
  {
   "cell_type": "code",
   "execution_count": null,
   "id": "95d5c596",
   "metadata": {},
   "outputs": [],
   "source": [
    "data_join2.pairwise_tukey(dv='3. 你認為本對話服務對你有多大幫助？[1至5選一]', between='max_concurrent_group2',effsize='eta-square').round(3)"
   ]
  },
  {
   "cell_type": "code",
   "execution_count": null,
   "id": "6d256bb2",
   "metadata": {},
   "outputs": [],
   "source": []
  },
  {
   "cell_type": "code",
   "execution_count": null,
   "id": "9f131b26",
   "metadata": {},
   "outputs": [],
   "source": [
    "kruskal(data=data_join2, dv='premature_departure_predicted', between='max_concurrent_group2')"
   ]
  },
  {
   "cell_type": "code",
   "execution_count": null,
   "id": "058a42a6",
   "metadata": {},
   "outputs": [],
   "source": [
    "def get_asterisks_for_pval(p_val):\n",
    "    \"\"\"Receives the p-value and returns asterisks string.\"\"\"\n",
    "    if p_val > 0.05:\n",
    "        p_text = \"ns\"  # above threshold => not significant\n",
    "    elif p_val < 1e-4:  \n",
    "        p_text = '****'\n",
    "    elif p_val < 1e-3:\n",
    "        p_text = '***'\n",
    "    elif p_val < 1e-2:\n",
    "        p_text = '**'\n",
    "    else:\n",
    "        p_text = '*'\n",
    "    \n",
    "    return p_text"
   ]
  },
  {
   "cell_type": "code",
   "execution_count": null,
   "id": "7621cf3e",
   "metadata": {},
   "outputs": [],
   "source": [
    "def chisq_and_posthoc_corrected(df):\n",
    "    \"\"\"Receives a dataframe and performs chi2 test and then post hoc.\n",
    "    Prints the p-values and corrected p-values (after FDR correction)\"\"\"\n",
    "    # start by running chi2 test on the matrix\n",
    "    chi2, p, dof, ex = chi2_contingency(df, correction=True)\n",
    "    print(f\"Chi2 result of the contingency table: {chi2}, p-value: {p}\")\n",
    "    \n",
    "    # post-hoc\n",
    "    all_combinations = list(combinations(df.index, 2))  # gathering all combinations for post-hoc chi2\n",
    "    p_vals = []\n",
    "    print(\"Significance results:\")\n",
    "    for comb in all_combinations:\n",
    "        new_df = df[(df.index == comb[0]) | (df.index == comb[1])]\n",
    "        chi2, p, dof, ex = chi2_contingency(new_df, correction=True)\n",
    "        p_vals.append(p)\n",
    "        # print(f\"For {comb}: {p}\")  # uncorrected\n",
    "\n",
    "    # checking significance\n",
    "    # correction for multiple testing\n",
    "    reject_list, corrected_p_vals = multipletests(p_vals, method='fdr_bh')[:2]\n",
    "    for p_val, corr_p_val, reject, comb in zip(p_vals, corrected_p_vals, reject_list, all_combinations):\n",
    "        print(f\"{comb}: p_value: {p_val:5f}; corrected: {corr_p_val:5f} ({get_asterisks_for_pval(p_val)}) reject: {reject}\")"
   ]
  },
  {
   "cell_type": "code",
   "execution_count": null,
   "id": "7e3f471d",
   "metadata": {},
   "outputs": [],
   "source": [
    "q1_con = data_join2.groupby('max_concurrent_group2')['premature_departure_predicted'].value_counts().unstack()"
   ]
  },
  {
   "cell_type": "code",
   "execution_count": null,
   "id": "3046be51",
   "metadata": {},
   "outputs": [],
   "source": [
    "chisq_and_posthoc_corrected(q1_con)"
   ]
  },
  {
   "cell_type": "code",
   "execution_count": null,
   "id": "b98fda8b",
   "metadata": {},
   "outputs": [],
   "source": [
    "q7_con = data_join2.groupby('max_concurrent_group2')['7. 如果你的朋友有需要，你會向他推薦我們的服務嗎？'].value_counts().unstack()"
   ]
  },
  {
   "cell_type": "code",
   "execution_count": null,
   "id": "61cd309b",
   "metadata": {},
   "outputs": [],
   "source": [
    "q7_con"
   ]
  },
  {
   "cell_type": "code",
   "execution_count": null,
   "id": "549835fb",
   "metadata": {},
   "outputs": [],
   "source": [
    "chisq_and_posthoc_corrected(q7_con)"
   ]
  },
  {
   "cell_type": "code",
   "execution_count": null,
   "id": "2f99bdfd",
   "metadata": {},
   "outputs": [],
   "source": []
  }
 ],
 "metadata": {
  "kernelspec": {
   "display_name": "Python 3 (ipykernel)",
   "language": "python",
   "name": "python3"
  },
  "language_info": {
   "codemirror_mode": {
    "name": "ipython",
    "version": 3
   },
   "file_extension": ".py",
   "mimetype": "text/x-python",
   "name": "python",
   "nbconvert_exporter": "python",
   "pygments_lexer": "ipython3",
   "version": "3.9.6"
  }
 },
 "nbformat": 4,
 "nbformat_minor": 5
}
