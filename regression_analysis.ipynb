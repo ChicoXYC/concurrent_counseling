{
 "cells": [
  {
   "cell_type": "markdown",
   "id": "99e4f542",
   "metadata": {},
   "source": [
    "## This code codebook serves multiple purposes\n",
    "\n",
    "- Join counselors' role and login time and calculate their accumulative hours on duty when handling that particular session\n",
    "- Exclude outliers with missing login time\n",
    "- Regression analysis on attention score along with counselor's roles, counselor's accumulative hours on duty, users visiting hours and downstream outcomes.\n",
    "\n",
    "@author: Yucan Xu (chicoxu@connect.hku.hk)"
   ]
  },
  {
   "cell_type": "code",
   "execution_count": null,
   "id": "76f8c17e",
   "metadata": {},
   "outputs": [],
   "source": [
    "import pandas as pd\n",
    "import numpy as np\n",
    "import glob,os,re,string\n",
    "import pytz\n",
    "import datetime\n",
    "import pymongo\n",
    "import re\n",
    "from datetime import timedelta\n",
    "from pingouin import ttest\n",
    "import researchpy as rp\n",
    "from scipy.stats import pearsonr\n",
    "import statsmodels.api as sm\n",
    "import statsmodels.formula.api as smf"
   ]
  },
  {
   "cell_type": "markdown",
   "id": "768f57be",
   "metadata": {},
   "source": [
    "## Read and join counselors' info and login time from database"
   ]
  },
  {
   "cell_type": "code",
   "execution_count": null,
   "id": "6b9349a3",
   "metadata": {},
   "outputs": [],
   "source": [
    "# try:\n",
    "#     # password authentication to login to MongoDB\n",
    "#     client = pymongo.MongoClient(\n",
    "#     )\n",
    "#     # access Openup Database and authenticate\n",
    "#     db = client['OpenupDB']\n",
    "#     print(f'Collections: {db.list_collection_names()}')\n",
    "\n",
    "# except:\n",
    "#     print('Cannot access OpenUp database.')\n",
    "#     if client:\n",
    "#         client.close()"
   ]
  },
  {
   "cell_type": "code",
   "execution_count": null,
   "id": "5615a623",
   "metadata": {},
   "outputs": [],
   "source": [
    "log_records = pd.DataFrame(list(db['OauthToken'].find()))"
   ]
  },
  {
   "cell_type": "code",
   "execution_count": null,
   "id": "51dea64c",
   "metadata": {},
   "outputs": [],
   "source": [
    "log_records"
   ]
  },
  {
   "cell_type": "code",
   "execution_count": null,
   "id": "42d5f1e8",
   "metadata": {},
   "outputs": [],
   "source": [
    "d=timedelta(hours=8)"
   ]
  },
  {
   "cell_type": "code",
   "execution_count": null,
   "id": "004840fe",
   "metadata": {},
   "outputs": [],
   "source": [
    "## check na"
   ]
  },
  {
   "cell_type": "code",
   "execution_count": null,
   "id": "5c571b82",
   "metadata": {},
   "outputs": [],
   "source": [
    "log_records[log_records['loginDateTime'].isna()]"
   ]
  },
  {
   "cell_type": "code",
   "execution_count": null,
   "id": "89dcc97d",
   "metadata": {},
   "outputs": [],
   "source": [
    "log_records_drop = log_records[(log_records['loginDateTime'].notna()) & \n",
    "                               (log_records['logoutDateTime'].notna())].copy()"
   ]
  },
  {
   "cell_type": "code",
   "execution_count": null,
   "id": "896db945",
   "metadata": {},
   "outputs": [],
   "source": [
    "log_records_drop['shift'] = log_records_drop['logoutDateTime'] - log_records_drop['loginDateTime']"
   ]
  },
  {
   "cell_type": "code",
   "execution_count": null,
   "id": "057b59ec",
   "metadata": {},
   "outputs": [],
   "source": [
    "log_records_drop2 = log_records_drop[log_records_drop['shift']<timedelta(hours=24)].copy()\n",
    "log_records_drop2.shape"
   ]
  },
  {
   "cell_type": "code",
   "execution_count": null,
   "id": "52bf018f",
   "metadata": {},
   "outputs": [],
   "source": [
    "log_records_drop2['loginDateTime'] = log_records_drop2['loginDateTime'] + d"
   ]
  },
  {
   "cell_type": "code",
   "execution_count": null,
   "id": "a286fb5e",
   "metadata": {},
   "outputs": [],
   "source": []
  },
  {
   "cell_type": "code",
   "execution_count": null,
   "id": "ab997403",
   "metadata": {},
   "outputs": [],
   "source": [
    "pred = pd.read_csv('premature_depature_detected_20-21.csv')"
   ]
  },
  {
   "cell_type": "code",
   "execution_count": null,
   "id": "b12ca119",
   "metadata": {},
   "outputs": [],
   "source": [
    "login_times = []\n",
    "counselors = []\n",
    "for i in pred.index:\n",
    "    counselor_id = pred.loc[i]['counselorId1']\n",
    "    start_datetime = pred.loc[i]['startDateTime']\n",
    "    counselor_records = log_records_drop2[log_records_drop2['systemId'] == counselor_id].copy()\n",
    "    login_time = counselor_records[counselor_records['loginDateTime']<=pred.loc[i]['startDateTime']].drop_duplicates(\n",
    "        subset=['systemId'],keep='last')['loginDateTime']\n",
    "    login_times.append(login_time)\n",
    "    counselor_role = counselor_records[counselor_records['loginDateTime']<=pred.loc[i]['startDateTime']].drop_duplicates(\n",
    "        subset=['systemId'],keep='last')['type']\n",
    "    counselors.append(counselor_role)"
   ]
  },
  {
   "cell_type": "code",
   "execution_count": null,
   "id": "3c5a1df0",
   "metadata": {},
   "outputs": [],
   "source": [
    "pred['login_time'] = login_times"
   ]
  },
  {
   "cell_type": "code",
   "execution_count": null,
   "id": "0aa27647",
   "metadata": {},
   "outputs": [],
   "source": [
    "pred['counselor_role'] = counselors"
   ]
  },
  {
   "cell_type": "code",
   "execution_count": null,
   "id": "388b7b37",
   "metadata": {},
   "outputs": [],
   "source": [
    "pred['login_time'] = pred['login_time'].apply(lambda x:x.values)"
   ]
  },
  {
   "cell_type": "code",
   "execution_count": null,
   "id": "c6a83728",
   "metadata": {},
   "outputs": [],
   "source": [
    "pred['counselor_role'] = pred['counselor_role'].apply(lambda x:x.values)"
   ]
  },
  {
   "cell_type": "code",
   "execution_count": null,
   "id": "01c7c4ea",
   "metadata": {},
   "outputs": [],
   "source": [
    "len(pred['login_time'][0])"
   ]
  },
  {
   "cell_type": "markdown",
   "id": "a53a0a3e",
   "metadata": {},
   "source": [
    "## Exclude sessions with login time error"
   ]
  },
  {
   "cell_type": "code",
   "execution_count": null,
   "id": "79c68da4",
   "metadata": {},
   "outputs": [],
   "source": [
    "pd_drop = pred[pred['login_time'].map(len)==1].copy()"
   ]
  },
  {
   "cell_type": "code",
   "execution_count": null,
   "id": "d64e1855",
   "metadata": {},
   "outputs": [],
   "source": [
    "pd_drop['login_time'] = pd_drop['login_time'].apply(lambda x:x[0])"
   ]
  },
  {
   "cell_type": "code",
   "execution_count": null,
   "id": "c36d851b",
   "metadata": {},
   "outputs": [],
   "source": [
    "pd_drop.columns"
   ]
  },
  {
   "cell_type": "code",
   "execution_count": null,
   "id": "6eecc93a",
   "metadata": {},
   "outputs": [],
   "source": [
    "pd_drop.login_time = pd.to_datetime(pd_drop.login_time)"
   ]
  },
  {
   "cell_type": "code",
   "execution_count": null,
   "id": "30c88d23",
   "metadata": {},
   "outputs": [],
   "source": [
    "pd_drop.startDateTime = pd.to_datetime(pd_drop.startDateTime)"
   ]
  },
  {
   "cell_type": "code",
   "execution_count": null,
   "id": "5100f286",
   "metadata": {},
   "outputs": [],
   "source": [
    "pd_drop['counselor_onduty_hours'] = pd_drop['startDateTime'] - pd_drop['login_time']"
   ]
  },
  {
   "cell_type": "code",
   "execution_count": null,
   "id": "e07cc728",
   "metadata": {},
   "outputs": [],
   "source": [
    "pd_drop['startDateTime'][0]"
   ]
  },
  {
   "cell_type": "markdown",
   "id": "8a0ce193",
   "metadata": {},
   "source": [
    "## Exlucde outliers that counselor_onduty_hours >=1 day"
   ]
  },
  {
   "cell_type": "code",
   "execution_count": null,
   "id": "a0b9954d",
   "metadata": {},
   "outputs": [],
   "source": [
    "pd_drop['counselor_onduty_hours'].min()"
   ]
  },
  {
   "cell_type": "code",
   "execution_count": null,
   "id": "7d1c05a5",
   "metadata": {},
   "outputs": [],
   "source": [
    "concurrent = pd.read_csv('concurrent_master_join.csv')"
   ]
  },
  {
   "cell_type": "code",
   "execution_count": null,
   "id": "8b897314",
   "metadata": {},
   "outputs": [],
   "source": [
    "concurrent_join = concurrent.join(\n",
    "    pd_drop[['conversationId','counselor_onduty_hours']].set_index(\n",
    "    'conversationId'),on='conversationId',how='left')"
   ]
  },
  {
   "cell_type": "code",
   "execution_count": null,
   "id": "dfb13dae",
   "metadata": {},
   "outputs": [],
   "source": [
    "concurrent_drop = concurrent_join[concurrent_join['counselor_onduty_hours']<=timedelta(hours=24)].copy()"
   ]
  },
  {
   "cell_type": "code",
   "execution_count": null,
   "id": "43b1ecf9",
   "metadata": {},
   "outputs": [],
   "source": [
    "concurrent_drop['hours_onduty'] = concurrent_drop['counselor_onduty_hours'].dt.seconds/3600"
   ]
  },
  {
   "cell_type": "code",
   "execution_count": null,
   "id": "5bed7b77",
   "metadata": {},
   "outputs": [],
   "source": [
    "concurrent_drop['hours_onduty'].max()"
   ]
  },
  {
   "cell_type": "code",
   "execution_count": null,
   "id": "d985846b",
   "metadata": {},
   "outputs": [],
   "source": [
    "concurrent_drop.columns"
   ]
  },
  {
   "cell_type": "code",
   "execution_count": null,
   "id": "313bae5b",
   "metadata": {},
   "outputs": [],
   "source": [
    "concurrent_drop = concurrent_drop.rename(columns={\n",
    "    '1. 比起對話前，你現在的感覺如何?.1':'Q1',\n",
    "    '3. 你認為本對話服務對你有多大幫助？[1至5選一]':'Q3',\n",
    "    '7. 如果你的朋友有需要，你會向他推薦我們的服務嗎？':'Q7'\n",
    "})"
   ]
  },
  {
   "cell_type": "code",
   "execution_count": null,
   "id": "df2cd859",
   "metadata": {},
   "outputs": [],
   "source": [
    "concurrent_drop"
   ]
  },
  {
   "cell_type": "code",
   "execution_count": null,
   "id": "cee9fcfd",
   "metadata": {},
   "outputs": [],
   "source": [
    "concurrent_drop2 = concurrent_drop.join(pd.get_dummies(concurrent_drop[['role','visting_period']]))"
   ]
  },
  {
   "cell_type": "code",
   "execution_count": null,
   "id": "81d2e1e7",
   "metadata": {},
   "outputs": [],
   "source": [
    "concurrent_drop2.columns"
   ]
  },
  {
   "cell_type": "code",
   "execution_count": null,
   "id": "760b409f",
   "metadata": {},
   "outputs": [],
   "source": [
    "concurrent_drop2 = concurrent_drop2.drop(columns=['role_Volunteer','visting_period_1-8'])"
   ]
  },
  {
   "cell_type": "markdown",
   "id": "7d6ec028",
   "metadata": {},
   "source": [
    "## Regression on Q1"
   ]
  },
  {
   "cell_type": "code",
   "execution_count": null,
   "id": "2247b342",
   "metadata": {},
   "outputs": [],
   "source": [
    "Q1 = concurrent_drop2[concurrent_drop2['Q1'].notna()].copy()"
   ]
  },
  {
   "cell_type": "code",
   "execution_count": null,
   "id": "13f0dbbd",
   "metadata": {},
   "outputs": [],
   "source": [
    "Q1.shape"
   ]
  },
  {
   "cell_type": "code",
   "execution_count": null,
   "id": "65a7d56c",
   "metadata": {},
   "outputs": [],
   "source": [
    "x = sm.add_constant(Q1[['attention_score','hours_onduty',\n",
    "                                   'role_Paid_staff','visting_period_17-24','visting_period_9-16']], prepend=False)"
   ]
  },
  {
   "cell_type": "code",
   "execution_count": null,
   "id": "efcddaaf",
   "metadata": {},
   "outputs": [],
   "source": [
    "y = Q1['Q1']"
   ]
  },
  {
   "cell_type": "code",
   "execution_count": null,
   "id": "549970a2",
   "metadata": {},
   "outputs": [],
   "source": [
    "mod = sm.OLS(y, x)"
   ]
  },
  {
   "cell_type": "code",
   "execution_count": null,
   "id": "8a4bf710",
   "metadata": {},
   "outputs": [],
   "source": [
    "res = mod.fit()"
   ]
  },
  {
   "cell_type": "code",
   "execution_count": null,
   "id": "c61bcd9d",
   "metadata": {},
   "outputs": [],
   "source": [
    "print(res.summary2())"
   ]
  },
  {
   "cell_type": "markdown",
   "id": "44dc03e6",
   "metadata": {},
   "source": [
    "## Regression on Q3"
   ]
  },
  {
   "cell_type": "code",
   "execution_count": null,
   "id": "389b052e",
   "metadata": {},
   "outputs": [],
   "source": [
    "Q3 = concurrent_drop2[concurrent_drop2['Q3'].notna()].copy()"
   ]
  },
  {
   "cell_type": "code",
   "execution_count": null,
   "id": "2bd1c295",
   "metadata": {},
   "outputs": [],
   "source": [
    "Q3.shape"
   ]
  },
  {
   "cell_type": "code",
   "execution_count": null,
   "id": "f17db99c",
   "metadata": {},
   "outputs": [],
   "source": [
    "x = sm.add_constant(Q3[['attention_score','hours_onduty',\n",
    "                                   'role_Paid_staff','visting_period_17-24','visting_period_9-16']], prepend=False)"
   ]
  },
  {
   "cell_type": "code",
   "execution_count": null,
   "id": "e5cecd17",
   "metadata": {},
   "outputs": [],
   "source": [
    "y = Q3['Q3']"
   ]
  },
  {
   "cell_type": "code",
   "execution_count": null,
   "id": "c052f60c",
   "metadata": {},
   "outputs": [],
   "source": [
    "mod = sm.OLS(y, x)"
   ]
  },
  {
   "cell_type": "code",
   "execution_count": null,
   "id": "15b37000",
   "metadata": {},
   "outputs": [],
   "source": [
    "res = mod.fit()"
   ]
  },
  {
   "cell_type": "code",
   "execution_count": null,
   "id": "7e3740c3",
   "metadata": {},
   "outputs": [],
   "source": [
    "print(res.summary2())"
   ]
  },
  {
   "cell_type": "markdown",
   "id": "c50623a6",
   "metadata": {},
   "source": [
    "## Regression on Q7"
   ]
  },
  {
   "cell_type": "code",
   "execution_count": null,
   "id": "eae60934",
   "metadata": {},
   "outputs": [],
   "source": [
    "Q7 = concurrent_drop2[concurrent_drop2['Q7'].notna()].copy()"
   ]
  },
  {
   "cell_type": "code",
   "execution_count": null,
   "id": "b40609c1",
   "metadata": {},
   "outputs": [],
   "source": [
    "Q7.shape"
   ]
  },
  {
   "cell_type": "code",
   "execution_count": null,
   "id": "043d83c6",
   "metadata": {},
   "outputs": [],
   "source": [
    "x = sm.add_constant(Q7[['attention_score','hours_onduty',\n",
    "                                   'role_Paid_staff','visting_period_17-24','visting_period_9-16']], prepend=False)"
   ]
  },
  {
   "cell_type": "code",
   "execution_count": null,
   "id": "f08432cf",
   "metadata": {},
   "outputs": [],
   "source": [
    "logistic_model = sm.GLM(Q7[['Q7']], x,\n",
    "                        family=sm.families.Binomial())"
   ]
  },
  {
   "cell_type": "code",
   "execution_count": null,
   "id": "2fba5498",
   "metadata": {},
   "outputs": [],
   "source": [
    "results = logistic_model.fit()"
   ]
  },
  {
   "cell_type": "code",
   "execution_count": null,
   "id": "7ec2ca89",
   "metadata": {},
   "outputs": [],
   "source": [
    "print(results.summary())"
   ]
  },
  {
   "cell_type": "code",
   "execution_count": null,
   "id": "b2b46a6c",
   "metadata": {},
   "outputs": [],
   "source": [
    "params = results.params\n",
    "conf = results.conf_int()\n",
    "conf['Odds Ratio'] = params\n",
    "conf.columns = ['5%', '95%', 'Odds Ratio']\n",
    "np.exp(conf)"
   ]
  },
  {
   "cell_type": "markdown",
   "id": "226f84bd",
   "metadata": {},
   "source": [
    "## Regression on Premature departure"
   ]
  },
  {
   "cell_type": "code",
   "execution_count": null,
   "id": "e2008f39",
   "metadata": {},
   "outputs": [],
   "source": [
    "concurrent_drop2.columns"
   ]
  },
  {
   "cell_type": "code",
   "execution_count": null,
   "id": "7560969b",
   "metadata": {},
   "outputs": [],
   "source": [
    "concurrent_drop2.shape"
   ]
  },
  {
   "cell_type": "code",
   "execution_count": null,
   "id": "dd8c9cc6",
   "metadata": {},
   "outputs": [],
   "source": [
    "x = sm.add_constant(concurrent_drop2[['attention_score','hours_onduty',\n",
    "                                   'role_Paid_staff','visting_period_17-24','visting_period_9-16']], prepend=False)"
   ]
  },
  {
   "cell_type": "code",
   "execution_count": null,
   "id": "dfaec320",
   "metadata": {},
   "outputs": [],
   "source": [
    "logistic_model = sm.GLM(concurrent_drop2[['premature_departure_predicted']], x,\n",
    "                        family=sm.families.Binomial())"
   ]
  },
  {
   "cell_type": "code",
   "execution_count": null,
   "id": "2e12d17d",
   "metadata": {},
   "outputs": [],
   "source": [
    "results = logistic_model.fit()"
   ]
  },
  {
   "cell_type": "code",
   "execution_count": null,
   "id": "6ca3575f",
   "metadata": {},
   "outputs": [],
   "source": [
    "print(results.summary())"
   ]
  },
  {
   "cell_type": "code",
   "execution_count": null,
   "id": "ed00f0bb",
   "metadata": {},
   "outputs": [],
   "source": [
    "params = results.params\n",
    "conf = results.conf_int()\n",
    "conf['Odds Ratio'] = params\n",
    "conf.columns = ['5%', '95%', 'Odds Ratio']\n",
    "np.exp(conf)"
   ]
  },
  {
   "cell_type": "code",
   "execution_count": null,
   "id": "dbc51cec",
   "metadata": {},
   "outputs": [],
   "source": []
  }
 ],
 "metadata": {
  "kernelspec": {
   "display_name": "Python 3 (ipykernel)",
   "language": "python",
   "name": "python3"
  },
  "language_info": {
   "codemirror_mode": {
    "name": "ipython",
    "version": 3
   },
   "file_extension": ".py",
   "mimetype": "text/x-python",
   "name": "python",
   "nbconvert_exporter": "python",
   "pygments_lexer": "ipython3",
   "version": "3.9.6"
  }
 },
 "nbformat": 4,
 "nbformat_minor": 5
}
